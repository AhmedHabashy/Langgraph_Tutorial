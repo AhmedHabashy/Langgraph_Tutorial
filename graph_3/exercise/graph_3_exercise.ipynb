{
 "cells": [
  {
   "cell_type": "code",
   "execution_count": 1,
   "id": "a3d26e0d",
   "metadata": {},
   "outputs": [],
   "source": [
    "from typing import TypedDict, List\n",
    "from langgraph.graph import StateGraph"
   ]
  },
  {
   "cell_type": "code",
   "execution_count": 24,
   "id": "d7f96c05",
   "metadata": {},
   "outputs": [],
   "source": [
    "# create state for the graph\n",
    "\n",
    "class State(TypedDict):\n",
    "    name: str\n",
    "    age: str\n",
    "    skills: List[str]\n",
    "    final: str\n",
    "\n",
    "# create node actions\n",
    "\n",
    "def add_name(state:State)->State:\n",
    "    state['final'] = f'Hi {state[\"name\"]}! '\n",
    "    return state\n",
    "\n",
    "def add_age(state:State)->State:\n",
    "    state['final'] += f'You are {state[\"age\"]} years old. '\n",
    "    return state\n",
    "\n",
    "def add_skills(state:State)->State:\n",
    "\n",
    "    state['final'] += f'You are good at {state[\"skills\"][0]}'\n",
    "    for i in range(1,len(state['skills'])):\n",
    "        if i == len(state['skills'])-1:\n",
    "            state['final'] += f' and {state[\"skills\"][i]}'\n",
    "            break\n",
    "        state['final'] += f', {state[\"skills\"][i]}'\n",
    "    return state"
   ]
  },
  {
   "cell_type": "code",
   "execution_count": 25,
   "id": "6492f5ce",
   "metadata": {},
   "outputs": [],
   "source": [
    "### create graph and nodes\n",
    "\n",
    "graph = StateGraph(State)\n",
    "\n",
    "graph.add_node(\"add_name\",add_name)\n",
    "graph.add_node(\"add_age\", add_age)\n",
    "graph.add_node(\"add_skills\", add_skills)\n",
    "\n",
    "### create edges\n",
    "\n",
    "graph.add_edge(\"add_name\",\"add_age\")\n",
    "graph.add_edge(\"add_age\",\"add_skills\")\n",
    "\n",
    "### set start and end point\n",
    "\n",
    "graph.set_entry_point(\"add_name\")\n",
    "graph.set_finish_point(\"add_skills\")\n",
    "\n",
    "### compile graph\n",
    "\n",
    "app = graph.compile()"
   ]
  },
  {
   "cell_type": "code",
   "execution_count": 26,
   "id": "aa9153cd",
   "metadata": {},
   "outputs": [
    {
     "data": {
      "image/png": "[encoded data removed]",
      "text/plain": [
       "<IPython.core.display.Image object>"
      ]
     },
     "metadata": {},
     "output_type": "display_data"
    }
   ],
   "source": [
    "from IPython.display import display, Image\n",
    "\n",
    "display(Image(app.get_graph().draw_mermaid_png()))"
   ]
  },
  {
   "cell_type": "code",
   "execution_count": 29,
   "id": "71180009",
   "metadata": {},
   "outputs": [
    {
     "data": {
      "text/plain": [
       "'Hi Ahmed! You are 23 years old. You are good at Python, ML, MLOPS and Langgraph'"
      ]
     },
     "execution_count": 29,
     "metadata": {},
     "output_type": "execute_result"
    }
   ],
   "source": [
    "result = app.invoke({\"name\": \"Ahmed\", \"age\": \"23\", \"skills\":[\"Python\",\"ML\",\"MLOPS\",\"Langgraph\"]})\n",
    "result['final']"
   ]
  }
 ],
 "metadata": {
  "kernelspec": {
   "display_name": ".venv",
   "language": "python",
   "name": "python3"
  },
  "language_info": {
   "codemirror_mode": {
    "name": "ipython",
    "version": 3
   },
   "file_extension": ".py",
   "mimetype": "text/x-python",
   "name": "python",
   "nbconvert_exporter": "python",
   "pygments_lexer": "ipython3",
   "version": "3.11.9"
  }
 },
 "nbformat": 4,
 "nbformat_minor": 5
}
