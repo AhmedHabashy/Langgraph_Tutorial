{
 "cells": [
  {
   "cell_type": "code",
   "execution_count": 1,
   "id": "0b2c44e9",
   "metadata": {},
   "outputs": [],
   "source": [
    "from typing import TypedDict\n",
    "from langgraph.graph import StateGraph"
   ]
  },
  {
   "cell_type": "code",
   "execution_count": 2,
   "id": "e28b587b",
   "metadata": {},
   "outputs": [],
   "source": [
    "class State(TypedDict):\n",
    "    name: str\n",
    "    age: str\n",
    "    final: str\n",
    "\n",
    "### first node action\n",
    "def first_node_action(state: State) -> State:\n",
    "    state['final'] = f\"Hi {state['name']}!\"\n",
    "    return state\n",
    "\n",
    "### second node action\n",
    "def second_node_action(state:State) -> State:\n",
    "    state['final'] += f\" You are {state['age']} years old.\"\n",
    "    return state"
   ]
  },
  {
   "cell_type": "code",
   "execution_count": 3,
   "id": "47582b32",
   "metadata": {},
   "outputs": [],
   "source": [
    "#create a graph and add the nodes\n",
    "\n",
    "graph = StateGraph(State)\n",
    "\n",
    "graph.add_node(node=\"add_name\",action=first_node_action)\n",
    "graph.add_node(node=\"add_age\",action=second_node_action)\n",
    "\n",
    "# add the edges\n",
    "graph.add_edge(start_key=\"add_name\",end_key=\"add_age\")\n",
    "\n",
    "# set starting and ending points\n",
    "graph.set_entry_point(key=\"add_name\")\n",
    "graph.set_finish_point(key=\"add_age\")\n",
    "\n",
    "#compile the graph\n",
    "\n",
    "app = graph.compile()"
   ]
  },
  {
   "cell_type": "code",
   "execution_count": 4,
   "id": "bb9b45cb",
   "metadata": {},
   "outputs": [
    {
     "data": {
      "image/png": "[encoded data removed]",
      "text/plain": [
       "<IPython.core.display.Image object>"
      ]
     },
     "metadata": {},
     "output_type": "display_data"
    }
   ],
   "source": [
    "from IPython.display import display,Image\n",
    "\n",
    "display(Image(app.get_graph().draw_mermaid_png()))"
   ]
  },
  {
   "cell_type": "code",
   "execution_count": 5,
   "id": "6ef89317",
   "metadata": {},
   "outputs": [
    {
     "data": {
      "text/plain": [
       "{'name': 'Ahmed', 'age': '23', 'final': 'Hi Ahmed! You are 23 years old.'}"
      ]
     },
     "execution_count": 5,
     "metadata": {},
     "output_type": "execute_result"
    }
   ],
   "source": [
    "result = app.invoke({\"name\":\"Ahmed\",\"age\":\"23\"})\n",
    "result"
   ]
  }
 ],
 "metadata": {
  "kernelspec": {
   "display_name": ".venv",
   "language": "python",
   "name": "python3"
  },
  "language_info": {
   "codemirror_mode": {
    "name": "ipython",
    "version": 3
   },
   "file_extension": ".py",
   "mimetype": "text/x-python",
   "name": "python",
   "nbconvert_exporter": "python",
   "pygments_lexer": "ipython3",
   "version": "3.11.9"
  }
 },
 "nbformat": 4,
 "nbformat_minor": 5
}
