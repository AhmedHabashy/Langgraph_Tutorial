{
 "cells": [
  {
   "cell_type": "code",
   "execution_count": 1,
   "id": "6d9e33c5",
   "metadata": {},
   "outputs": [],
   "source": [
    "from typing import TypedDict, List\n",
    "from langgraph.graph import StateGraph"
   ]
  },
  {
   "cell_type": "code",
   "execution_count": 2,
   "id": "567a3105",
   "metadata": {},
   "outputs": [],
   "source": [
    "# apply the graph state\n",
    "class State(TypedDict):\n",
    "    name: str\n",
    "    values: List[int]\n",
    "    op: str\n",
    "\n",
    "# intialize the graph\n",
    "graph = StateGraph(State)"
   ]
  },
  {
   "cell_type": "code",
   "execution_count": 3,
   "id": "de722023",
   "metadata": {},
   "outputs": [],
   "source": [
    "# apply the node action function\n",
    "def apply_op(state: State) -> State:\n",
    "    match state['op']:\n",
    "        case '+':\n",
    "            state['name'] = f\"hello {state['name']} op {state['op']} result {sum(state['values'])}\"\n",
    "        case '*':\n",
    "            r = 1\n",
    "            for i in state['values']:\n",
    "                r *= i\n",
    "            state['name'] = f\"hello {state['name']} op {state['op']} result {r}\"\n",
    "        case _:\n",
    "            state['name'] = f\"hello {state['name']}, unknown op {state['op']}\"\n",
    "    return state"
   ]
  },
  {
   "cell_type": "code",
   "execution_count": 4,
   "id": "b3dc7631",
   "metadata": {},
   "outputs": [],
   "source": [
    "# create a node and set entry and exit points\n",
    "\n",
    "graph.add_node('calc_processor',apply_op)\n",
    "graph.set_entry_point('calc_processor')\n",
    "graph.set_finish_point('calc_processor')\n",
    "\n",
    "app = graph.compile()"
   ]
  },
  {
   "cell_type": "code",
   "execution_count": 6,
   "id": "ba9ffbee",
   "metadata": {},
   "outputs": [
    {
     "data": {
      "image/png": "[encoded data removed]",
      "text/plain": [
       "<IPython.core.display.Image object>"
      ]
     },
     "metadata": {},
     "output_type": "display_data"
    }
   ],
   "source": [
    "#show graph\n",
    "from IPython.display import display,Image\n",
    "display(Image(app.get_graph().draw_mermaid_png()))"
   ]
  },
  {
   "cell_type": "code",
   "execution_count": 7,
   "id": "6761d9f0",
   "metadata": {},
   "outputs": [
    {
     "name": "stdout",
     "output_type": "stream",
     "text": [
      "{'name': 'hello Ahmed op + result 15', 'values': [1, 2, 3, 4, 5], 'op': '+'}\n",
      "{'name': 'hello Ahmed op * result 120', 'values': [1, 2, 3, 4, 5], 'op': '*'}\n",
      "{'name': 'hello Ahmed, unknown op /', 'values': [1, 2, 3, 4, 5], 'op': '/'}\n"
     ]
    }
   ],
   "source": [
    "result = app.invoke({'name':'Ahmed', \"values\":[1,2,3,4,5], \"op\":\"+\"})\n",
    "print(result)\n",
    "result = app.invoke({'name':'Ahmed', \"values\":[1,2,3,4,5], \"op\":\"*\"})\n",
    "print(result)\n",
    "result = app.invoke({'name':'Ahmed', \"values\":[1,2,3,4,5], \"op\":\"/\"})\n",
    "print(result)"
   ]
  }
 ],
 "metadata": {
  "kernelspec": {
   "display_name": ".venv",
   "language": "python",
   "name": "python3"
  },
  "language_info": {
   "codemirror_mode": {
    "name": "ipython",
    "version": 3
   },
   "file_extension": ".py",
   "mimetype": "text/x-python",
   "name": "python",
   "nbconvert_exporter": "python",
   "pygments_lexer": "ipython3",
   "version": "3.11.9"
  }
 },
 "nbformat": 4,
 "nbformat_minor": 5
}
