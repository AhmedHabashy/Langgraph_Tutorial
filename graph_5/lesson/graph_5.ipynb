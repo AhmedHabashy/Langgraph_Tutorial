{
 "cells": [
  {
   "cell_type": "code",
   "execution_count": 6,
   "id": "2967af55",
   "metadata": {},
   "outputs": [],
   "source": [
    "from IPython.display import display, Image\n",
    "from typing import TypedDict,List\n",
    "from langgraph.graph import StateGraph,START,END\n",
    "import random"
   ]
  },
  {
   "cell_type": "code",
   "execution_count": 5,
   "id": "271b047c",
   "metadata": {},
   "outputs": [],
   "source": [
    "#define state\n",
    "class State(TypedDict):\n",
    "    name:str\n",
    "    numbers: List[int]\n",
    "    counter: int"
   ]
  },
  {
   "cell_type": "code",
   "execution_count": 16,
   "id": "6567d462",
   "metadata": {},
   "outputs": [],
   "source": [
    "#define actions\n",
    "\n",
    "def greeting(state:State)->State:\n",
    "    state['name'] = f'Hi there, {state[\"name\"]}'\n",
    "    state['counter'] = 0\n",
    "    return state\n",
    "\n",
    "def random_node(state:State)->State:\n",
    "    state['numbers'].append(random.randint(0,10))\n",
    "    state['counter'] += 1\n",
    "    return state\n",
    "\n",
    "def should_continue(state:State)->State:\n",
    "    if state['counter'] < 5:\n",
    "        return \"continue looping\"\n",
    "    else:\n",
    "        return \"end looping\"\n"
   ]
  },
  {
   "cell_type": "code",
   "execution_count": 17,
   "id": "3095a782",
   "metadata": {},
   "outputs": [],
   "source": [
    "#define nodes and edges\n",
    "graph = StateGraph(State)\n",
    "graph.add_node(\"Greeting\",greeting)\n",
    "graph.add_node(\"random_number_adder\",random_node)\n",
    "\n",
    "#define the edges\n",
    "graph.add_edge(START,\"Greeting\")\n",
    "graph.add_edge(\"Greeting\",\"random_number_adder\")\n",
    "graph.add_conditional_edges(\n",
    "    'random_number_adder',\n",
    "    should_continue,\n",
    "    {\n",
    "        #edge:node\n",
    "        \"continue looping\":\"random_number_adder\",\n",
    "        \"end looping\":END\n",
    "    }\n",
    ")\n",
    "\n",
    "#compile the graph\n",
    "app = graph.compile()"
   ]
  },
  {
   "cell_type": "code",
   "execution_count": 18,
   "id": "61b8e0cb",
   "metadata": {},
   "outputs": [
    {
     "data": {
      "image/png": "[encoded data removed]",
      "text/plain": [
       "<IPython.core.display.Image object>"
      ]
     },
     "metadata": {},
     "output_type": "display_data"
    }
   ],
   "source": [
    "display(Image(app.get_graph().draw_mermaid_png()))"
   ]
  },
  {
   "cell_type": "code",
   "execution_count": 25,
   "id": "0140cb5e",
   "metadata": {},
   "outputs": [
    {
     "data": {
      "text/plain": [
       "{'name': 'Hi there, Ahmed', 'numbers': [1, 8, 5, 8, 10], 'counter': 5}"
      ]
     },
     "execution_count": 25,
     "metadata": {},
     "output_type": "execute_result"
    }
   ],
   "source": [
    "result = app.invoke({\"name\":\"Ahmed\", \"counter\":10, \"numbers\":[]})\n",
    "result"
   ]
  }
 ],
 "metadata": {
  "kernelspec": {
   "display_name": ".venv",
   "language": "python",
   "name": "python3"
  },
  "language_info": {
   "codemirror_mode": {
    "name": "ipython",
    "version": 3
   },
   "file_extension": ".py",
   "mimetype": "text/x-python",
   "name": "python",
   "nbconvert_exporter": "python",
   "pygments_lexer": "ipython3",
   "version": "3.11.9"
  }
 },
 "nbformat": 4,
 "nbformat_minor": 5
}
