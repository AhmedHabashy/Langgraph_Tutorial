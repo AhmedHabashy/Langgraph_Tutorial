{
 "cells": [
  {
   "cell_type": "code",
   "execution_count": 9,
   "id": "257dfe3d",
   "metadata": {},
   "outputs": [],
   "source": [
    "from typing import TypedDict, List\n",
    "from langgraph.graph import StateGraph, START, END\n",
    "import random\n",
    "from IPython.display import Image,display"
   ]
  },
  {
   "cell_type": "code",
   "execution_count": 26,
   "id": "ef414df1",
   "metadata": {},
   "outputs": [],
   "source": [
    "#define state\n",
    "class State(TypedDict):\n",
    "    player_name: str\n",
    "    target_number:int\n",
    "    gusses: List[int]\n",
    "    attempts: int\n",
    "    lower_bound: int\n",
    "    upper_bound: int\n",
    "    result: str"
   ]
  },
  {
   "cell_type": "code",
   "execution_count": 38,
   "id": "00941912",
   "metadata": {},
   "outputs": [],
   "source": [
    "### define actions\n",
    "def setup(state:State)->State:\n",
    "    state['target_number'] = random.randint(state['lower_bound'],state['upper_bound'])\n",
    "    state['attempts'] = 0\n",
    "    state['gusses'] = []\n",
    "    return state\n",
    "\n",
    "def guess(state:State)->State:\n",
    "    state['attempts'] += 1\n",
    "    state['gusses'].append(random.randint(state['lower_bound'],state['upper_bound']))\n",
    "    return state\n",
    "\n",
    "def hint(state:State)->State:\n",
    "    if state['gusses'][-1] > state['target_number']:\n",
    "        state['result'] = 'go lower'\n",
    "        state['upper_bound'] = state['gusses'][-1]\n",
    "\n",
    "    elif state['gusses'][-1] < state['target_number']:\n",
    "        state['result'] = 'go higher'\n",
    "        state['lower_bound'] = state['gusses'][-1]\n",
    "\n",
    "    else:\n",
    "        state['result'] = 'you are right!'\n",
    "    \n",
    "    return state\n",
    "\n",
    "def loop_condition(state:State)->State:\n",
    "    if state['attempts'] > 7:\n",
    "        state['result'] = 'game over! you lost!'\n",
    "        return \"end\"\n",
    "    \n",
    "    elif state[\"gusses\"][-1] == state['target_number']:\n",
    "        state['result'] = 'you won!'\n",
    "        return \"end\"\n",
    "    \n",
    "    else:\n",
    "        return \"give hint\"\n"
   ]
  },
  {
   "cell_type": "code",
   "execution_count": 39,
   "id": "2fef0e6a",
   "metadata": {},
   "outputs": [],
   "source": [
    "graph = StateGraph(State)\n",
    "\n",
    "### add nodes and actions\n",
    "graph.add_node(\"setup\",setup)\n",
    "graph.add_node(\"guess\",guess)\n",
    "graph.add_node(\"hint\",hint)\n",
    "\n",
    "### add edges\n",
    "graph.add_edge(START,\"setup\")\n",
    "graph.add_edge(\"setup\",\"guess\")\n",
    "graph.add_edge(\"guess\",\"hint\")\n",
    "graph.add_conditional_edges(\n",
    "    \"hint\",\n",
    "    loop_condition,\n",
    "    {\n",
    "        \"end\":END,\n",
    "        \"give hint\":\"guess\"\n",
    "    }\n",
    ")\n",
    "### compile graph\n",
    "app = graph.compile()"
   ]
  },
  {
   "cell_type": "code",
   "execution_count": 40,
   "id": "437ad9cd",
   "metadata": {},
   "outputs": [
    {
     "data": {
      "image/png": "[encoded data removed]",
      "text/plain": [
       "<IPython.core.display.Image object>"
      ]
     },
     "metadata": {},
     "output_type": "display_data"
    }
   ],
   "source": [
    "display(Image(app.get_graph().draw_mermaid_png()))"
   ]
  },
  {
   "cell_type": "code",
   "execution_count": 42,
   "id": "9da4e199",
   "metadata": {},
   "outputs": [
    {
     "data": {
      "text/plain": [
       "{'player_name': 'Ahmed',\n",
       " 'target_number': 17,\n",
       " 'gusses': [14, 18, 16, 17],\n",
       " 'attempts': 4,\n",
       " 'lower_bound': 16,\n",
       " 'upper_bound': 18,\n",
       " 'result': 'you are right!'}"
      ]
     },
     "execution_count": 42,
     "metadata": {},
     "output_type": "execute_result"
    }
   ],
   "source": [
    "state = State(player_name=\"Ahmed\", target_number = 0,guesses=[], attempts=0, lower_bound=0, upper_bound=20,result='')\n",
    "answer = app.invoke(state)\n",
    "answer"
   ]
  }
 ],
 "metadata": {
  "kernelspec": {
   "display_name": ".venv",
   "language": "python",
   "name": "python3"
  },
  "language_info": {
   "codemirror_mode": {
    "name": "ipython",
    "version": 3
   },
   "file_extension": ".py",
   "mimetype": "text/x-python",
   "name": "python",
   "nbconvert_exporter": "python",
   "pygments_lexer": "ipython3",
   "version": "3.11.9"
  }
 },
 "nbformat": 4,
 "nbformat_minor": 5
}
