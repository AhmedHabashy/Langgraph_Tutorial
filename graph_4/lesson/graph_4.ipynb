{
 "cells": [
  {
   "cell_type": "code",
   "execution_count": 2,
   "id": "01352bc9",
   "metadata": {},
   "outputs": [],
   "source": [
    "from typing import TypedDict\n",
    "from langgraph.graph import StateGraph,START,END"
   ]
  },
  {
   "cell_type": "code",
   "execution_count": 4,
   "id": "2a837f6a",
   "metadata": {},
   "outputs": [],
   "source": [
    "### define state\n",
    "class State(TypedDict):\n",
    "    number1: int\n",
    "    operation: str\n",
    "    number2: int\n",
    "    result: int"
   ]
  },
  {
   "cell_type": "code",
   "execution_count": 6,
   "id": "6a9f4c1a",
   "metadata": {},
   "outputs": [],
   "source": [
    "### define actions\n",
    "\n",
    "def adder(state:State)->State:\n",
    "    \"\"\"Add two numbers\"\"\"\n",
    "    state['result'] = state['number1'] + state['number2']\n",
    "    return state\n",
    "\n",
    "def subtractor(state:State)->State:\n",
    "    \"\"\"Subtract two numbers\"\"\"\n",
    "    state['result'] = state['number1'] - state['number2']\n",
    "    return state\n",
    "\n",
    "def router(state:State)->State:\n",
    "    \"\"\"Route the operation to the appropriate function\"\"\"\n",
    "    if state['operation'] == '+':\n",
    "        return \"addition_operation\"\n",
    "    elif state['operation'] == '-':\n",
    "        return \"subtractor_operation\""
   ]
  },
  {
   "cell_type": "code",
   "execution_count": null,
   "id": "688591bb",
   "metadata": {},
   "outputs": [],
   "source": [
    "### create graph\n",
    "graph = StateGraph(State)\n",
    "\n",
    "### define graph nodes\n",
    "graph.add_node(\"router\", lambda state:state) ### since this is a conditional node the state entering should be the same as the state leaving\n",
    "graph.add_node(\"add_node\",adder)\n",
    "graph.add_node(\"subtract_node\",subtractor)\n",
    "\n",
    "### define Edges\n",
    "graph.add_edge(START, \"router\")\n",
    "\n",
    "graph.add_conditional_edges( ### conditional edge node, action, edges\n",
    "    \"router\",\n",
    "    router,\n",
    "    {\n",
    "        #Edge:node\n",
    "        \"addition_operation\": \"add_node\",\n",
    "        \"subtractor_operation\": \"subtract_node\"\n",
    "    }\n",
    ")\n",
    "\n",
    "graph.add_edge(\"add_node\", END)\n",
    "graph.add_edge(\"subtract_node\", END)\n",
    "\n",
    "### compile graph\n",
    "\n",
    "app = graph.compile()"
   ]
  },
  {
   "cell_type": "code",
   "execution_count": 8,
   "id": "49b0b10b",
   "metadata": {},
   "outputs": [
    {
     "data": {
      "image/png": "[encoded data removed]",
      "text/plain": [
       "<IPython.core.display.Image object>"
      ]
     },
     "metadata": {},
     "output_type": "display_data"
    }
   ],
   "source": [
    "from IPython.display import display, Image\n",
    "\n",
    "display(Image(app.get_graph().draw_mermaid_png()))"
   ]
  },
  {
   "cell_type": "code",
   "execution_count": 10,
   "id": "a47c1c6d",
   "metadata": {},
   "outputs": [
    {
     "data": {
      "text/plain": [
       "{'number1': 3, 'operation': '-', 'number2': 5, 'result': -2}"
      ]
     },
     "execution_count": 10,
     "metadata": {},
     "output_type": "execute_result"
    }
   ],
   "source": [
    "agentstate = State(number1=3,operation=\"-\",number2=5)\n",
    "answer = app.invoke(agentstate)\n",
    "answer"
   ]
  }
 ],
 "metadata": {
  "kernelspec": {
   "display_name": ".venv",
   "language": "python",
   "name": "python3"
  },
  "language_info": {
   "codemirror_mode": {
    "name": "ipython",
    "version": 3
   },
   "file_extension": ".py",
   "mimetype": "text/x-python",
   "name": "python",
   "nbconvert_exporter": "python",
   "pygments_lexer": "ipython3",
   "version": "3.11.9"
  }
 },
 "nbformat": 4,
 "nbformat_minor": 5
}
