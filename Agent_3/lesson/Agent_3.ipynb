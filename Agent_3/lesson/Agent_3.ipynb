{
 "cells": [
  {
   "cell_type": "code",
   "execution_count": 1,
   "id": "9123cdeb",
   "metadata": {},
   "outputs": [],
   "source": [
    "from typing import TypedDict, Annotated, Sequence  # Annotated helps in creating metadata for the types\n",
    "\n",
    "from langchain_core.messages import BaseMessage,ToolMessage,SystemMessage\n",
    "from langchain_core.tools import tool\n",
    "from langchain_google_genai import ChatGoogleGenerativeAI\n",
    "\n",
    "from langgraph.graph import StateGraph, START, END\n",
    "from langgraph.graph.message import add_messages\n",
    "from langgraph.prebuilt import ToolNode\n",
    "\n",
    "import os\n",
    "from dotenv import load_dotenv\n",
    "load_dotenv()\n",
    "\n",
    "if \"GOOGLE_API_KEY\" not in os.environ:\n",
    "    os.environ[\"GOOGLE_API_KEY\"] = os.getenv(\"GEMINI_API_KEY\")"
   ]
  },
  {
   "cell_type": "code",
   "execution_count": 2,
   "id": "4ed83682",
   "metadata": {},
   "outputs": [],
   "source": [
    "class State(TypedDict): \n",
    "    ### annotated provides metadata for the datatype\n",
    "    ### sequence accepts any type of sequenctial primitive data types like list, tuple and strings (not set since it is not ordered and not dict since it is key:value based and not index based)\n",
    "    ### add_messages adds the messages to the state automatically instead of having to append them in the graph action logic\n",
    "    messages: Annotated[Sequence[BaseMessage], add_messages]"
   ]
  },
  {
   "cell_type": "code",
   "execution_count": 16,
   "id": "6c328a93",
   "metadata": {},
   "outputs": [],
   "source": [
    "@tool\n",
    "def add(a:int,b:int) -> int:\n",
    "    \"\"\"this function adds two numbers\"\"\"\n",
    "    return a+b\n",
    "\n",
    "@tool \n",
    "def subtract(a:int,b:int) -> int:\n",
    "    \"\"\"this function subtracts two numbers\"\"\"\n",
    "    return a-b\n",
    "\n",
    "@tool\n",
    "def multiply(a:int,b:int) -> int:\n",
    "    \"\"\"this function multiplies two numbers\"\"\"\n",
    "    return a*b\n",
    "\n",
    "@tool\n",
    "def divide(a:float,b:float) -> float:\n",
    "    \"\"\"this function divides two numbers\"\"\"\n",
    "    return a/b"
   ]
  },
  {
   "cell_type": "code",
   "execution_count": 17,
   "id": "e38c1f85",
   "metadata": {},
   "outputs": [],
   "source": [
    "# for adding multiple tools\n",
    "tools = [add,subtract,multiply,divide]\n",
    "\n",
    "# intialize the model and bind the tools to it\n",
    "llm = ChatGoogleGenerativeAI(\n",
    "    model = \"gemini-2.0-flash\",\n",
    "    temperature = 0\n",
    ").bind_tools(tools=tools)"
   ]
  },
  {
   "cell_type": "code",
   "execution_count": 18,
   "id": "c6fb2b5f",
   "metadata": {},
   "outputs": [],
   "source": [
    "### actions\n",
    "def model_call(state:State) -> State:\n",
    "    system_prompt = SystemMessage(\n",
    "        content=\"You are a helpful assistant, please answer the query to the best of your ability.\"\n",
    "    )\n",
    "    response = llm.invoke([system_prompt] + state['messages'])\n",
    "    return {\"messages\": [response]} ### since add_message is defined in the annotaion it will update the state automatically instead of replacing it\n",
    "\n",
    "def should_continue(state:State)-> State:\n",
    "    last_message = state['messages'][-1]\n",
    "    if not last_message.tool_calls:\n",
    "        return \"end\"\n",
    "    else:\n",
    "        return \"continue\""
   ]
  },
  {
   "cell_type": "code",
   "execution_count": 19,
   "id": "50171b0d",
   "metadata": {},
   "outputs": [],
   "source": [
    "agent = StateGraph(State)\n",
    "\n",
    "agent.add_node(\"agent_query\",model_call)\n",
    "\n",
    "tool_node = ToolNode(tools=tools)\n",
    "agent.add_node(\"tool_node\",tool_node)\n",
    "\n",
    "agent.add_edge(START,\"agent_query\")\n",
    "agent.add_conditional_edges(\n",
    "    \"agent_query\",\n",
    "    should_continue,\n",
    "    {\n",
    "        #edge:node\n",
    "        \"end\":END,\n",
    "        \"continue\":\"tool_node\"\n",
    "    }\n",
    ")\n",
    "agent.add_edge(\"tool_node\",\"agent_query\")\n",
    "\n",
    "app = agent.compile()"
   ]
  },
  {
   "cell_type": "code",
   "execution_count": 20,
   "id": "65f977b7",
   "metadata": {},
   "outputs": [
    {
     "data": {
      "image/png": "[encoded data removed]",
      "text/plain": [
       "<IPython.core.display.Image object>"
      ]
     },
     "metadata": {},
     "output_type": "display_data"
    }
   ],
   "source": [
    "from IPython.display import Image\n",
    "display(Image(app.get_graph().draw_mermaid_png()))"
   ]
  },
  {
   "cell_type": "code",
   "execution_count": 21,
   "id": "4c4aa304",
   "metadata": {},
   "outputs": [],
   "source": [
    "def print_stream(stream):\n",
    "    for s in stream:\n",
    "        message = s['messages'][-1]\n",
    "        if isinstance(message, tuple):\n",
    "            print(message)\n",
    "        else: \n",
    "            message.pretty_print()"
   ]
  },
  {
   "cell_type": "code",
   "execution_count": 23,
   "id": "c5c1bbca",
   "metadata": {},
   "outputs": [
    {
     "name": "stdout",
     "output_type": "stream",
     "text": [
      "================================\u001b[1m Human Message \u001b[0m=================================\n",
      "\n",
      "what is 8+8, 9-2, 10*21 and 16/2 also tell me a joke\n",
      "==================================\u001b[1m Ai Message \u001b[0m==================================\n",
      "Tool Calls:\n",
      "  add (7e97083a-37b6-452c-9a63-4ab4a752822e)\n",
      " Call ID: 7e97083a-37b6-452c-9a63-4ab4a752822e\n",
      "  Args:\n",
      "    b: 8.0\n",
      "    a: 8.0\n",
      "  subtract (edc0b371-4510-4123-b483-cde6bde02f25)\n",
      " Call ID: edc0b371-4510-4123-b483-cde6bde02f25\n",
      "  Args:\n",
      "    b: 2.0\n",
      "    a: 9.0\n",
      "  multiply (503bc454-38d8-4bb8-b96b-175c923a43c3)\n",
      " Call ID: 503bc454-38d8-4bb8-b96b-175c923a43c3\n",
      "  Args:\n",
      "    b: 21.0\n",
      "    a: 10.0\n",
      "  divide (086d78d7-efee-4f79-a92c-4a942b391705)\n",
      " Call ID: 086d78d7-efee-4f79-a92c-4a942b391705\n",
      "  Args:\n",
      "    b: 2.0\n",
      "    a: 16.0\n",
      "=================================\u001b[1m Tool Message \u001b[0m=================================\n",
      "Name: divide\n",
      "\n",
      "8.0\n",
      "==================================\u001b[1m Ai Message \u001b[0m==================================\n",
      "\n",
      "8+8 = 16, 9-2 = 7, 10*21 = 210 and 16/2 = 8.\n",
      "\n",
      "Here's a joke for you: Why don't scientists trust atoms? Because they make up everything!\n"
     ]
    }
   ],
   "source": [
    "inputs = {\"messages\": (\"user\",\"what is 8+8, 9-2, 10*21 and 16/2 also tell me a joke\")}\n",
    "print_stream(app.stream(inputs,stream_mode=\"values\"))"
   ]
  }
 ],
 "metadata": {
  "kernelspec": {
   "display_name": ".venv",
   "language": "python",
   "name": "python3"
  },
  "language_info": {
   "codemirror_mode": {
    "name": "ipython",
    "version": 3
   },
   "file_extension": ".py",
   "mimetype": "text/x-python",
   "name": "python",
   "nbconvert_exporter": "python",
   "pygments_lexer": "ipython3",
   "version": "3.11.9"
  }
 },
 "nbformat": 4,
 "nbformat_minor": 5
}
