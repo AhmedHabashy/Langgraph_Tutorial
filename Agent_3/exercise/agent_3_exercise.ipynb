{
 "cells": [
  {
   "cell_type": "code",
   "execution_count": 1,
   "id": "faa65237",
   "metadata": {},
   "outputs": [],
   "source": [
    "from typing import Annotated, Sequence, TypedDict, List\n",
    "\n",
    "from langchain_core.messages import BaseMessage, SystemMessage, ToolMessage\n",
    "from langchain_core.tools import tool\n",
    "\n",
    "from langchain_google_genai import ChatGoogleGenerativeAI\n",
    "\n",
    "from langgraph.graph import StateGraph, START, END\n",
    "from langgraph.graph.message import add_messages\n",
    "from langgraph.prebuilt import ToolNode\n",
    "\n",
    "from dotenv import load_dotenv\n",
    "load_dotenv()\n",
    "\n",
    "import os"
   ]
  },
  {
   "cell_type": "code",
   "execution_count": 2,
   "id": "9582a0fc",
   "metadata": {},
   "outputs": [],
   "source": [
    "if \"GOOGLE_API_KEY\" not in os.environ:\n",
    "    os.environ[\"GOOGLE_API_KEY\"] = os.getenv(\"GEMINI_API_KEY\")"
   ]
  },
  {
   "cell_type": "code",
   "execution_count": 3,
   "id": "8c19f8bf",
   "metadata": {},
   "outputs": [],
   "source": [
    "### in the exercise the agent will be able to read from a text file and write to it \n",
    "class State(TypedDict):\n",
    "    messages: Annotated[Sequence[BaseMessage], add_messages]"
   ]
  },
  {
   "cell_type": "code",
   "execution_count": 27,
   "id": "4714899f",
   "metadata": {},
   "outputs": [],
   "source": [
    "@tool\n",
    "def file_exisits(file_path: str) -> str:\n",
    "    \"checks if a file exists\"\n",
    "    if os.path.exists(file_path):\n",
    "        return \"File exists\"\n",
    "    else:\n",
    "        return \"File does not exist\"\n",
    "\n",
    "@tool\n",
    "def read_file(file_path: str) -> str:\n",
    "    \"reads from a file\"\n",
    "    with open(file_path, \"r\") as f:\n",
    "        return f.read()\n",
    "\n",
    "@tool\n",
    "def write_file(file_path: str, content: str) -> str:\n",
    "    \"writes to a file\"\n",
    "    with open(file_path, \"w\") as f:\n",
    "        f.write(content)\n",
    "    return \"File written\"\n",
    "\n",
    "@tool\n",
    "def list_files() -> List[str]:\n",
    "    \"lists all files in the current directory\"\n",
    "    return os.listdir()\n",
    "\n",
    "@tool \n",
    "def delete_file(file_path: str) -> str:\n",
    "    \"deletes a file\"\n",
    "    os.remove(file_path)\n",
    "    return \"File deleted\""
   ]
  },
  {
   "cell_type": "code",
   "execution_count": 28,
   "id": "16f3e4ce",
   "metadata": {},
   "outputs": [],
   "source": [
    "tools = [file_exisits,read_file,write_file,list_files,delete_file]\n",
    "\n",
    "llm = ChatGoogleGenerativeAI(\n",
    "    model = \"gemini-2.0-flash\",\n",
    "    temperature = 0.7\n",
    ").bind_tools(tools)"
   ]
  },
  {
   "cell_type": "code",
   "execution_count": 29,
   "id": "9bd678af",
   "metadata": {},
   "outputs": [],
   "source": [
    "# actions\n",
    "def controller(state:State) -> State:\n",
    "    \"\"\"control the flow of the agent\"\"\"\n",
    "    system_message = SystemMessage(content=\"You are a helpful assistant. utilize you tools to help the user edit the current file directory.\")\n",
    "    response = llm.invoke([system_message] + state[\"messages\"])\n",
    "    # print(\"current state: \",state['messages'])\n",
    "    return {\"messages\" : [response]}\n",
    "\n",
    "def check_for_tool_nessecety(state:State) -> State:\n",
    "    \"\"\"check for tool necessity\"\"\"\n",
    "    last_message = state[\"messages\"][-1]\n",
    "    if not last_message.tool_calls:\n",
    "        return \"end\"\n",
    "    else:\n",
    "        return \"continue\""
   ]
  },
  {
   "cell_type": "code",
   "execution_count": 30,
   "id": "fdf5a835",
   "metadata": {},
   "outputs": [],
   "source": [
    "# intialize graph\n",
    "graph = StateGraph(State)\n",
    "\n",
    "# add nodes\n",
    "graph.add_node(\"Agent_Control\", controller)\n",
    "tool_node = ToolNode(tools)\n",
    "graph.add_node(\"tools\", tool_node)\n",
    "\n",
    "# add edges\n",
    "graph.add_edge(START, \"Agent_Control\")\n",
    "graph.add_conditional_edges(\n",
    "    \"Agent_Control\",\n",
    "    check_for_tool_nessecety,\n",
    "    {\n",
    "        #edge:nood\n",
    "        \"end\" : END,\n",
    "        \"continue\": \"tools\"\n",
    "    }\n",
    ")\n",
    "graph.add_edge(\"tools\", \"Agent_Control\")\n",
    "\n",
    "# compile graph\n",
    "app = graph.compile()"
   ]
  },
  {
   "cell_type": "code",
   "execution_count": 31,
   "id": "dcbf2c2c",
   "metadata": {},
   "outputs": [
    {
     "data": {
      "image/png": "[encoded data removed]",
      "text/plain": [
       "<IPython.core.display.Image object>"
      ]
     },
     "metadata": {},
     "output_type": "display_data"
    }
   ],
   "source": [
    "from IPython.display import Image\n",
    "display(Image(app.get_graph().draw_mermaid_png()))"
   ]
  },
  {
   "cell_type": "code",
   "execution_count": 32,
   "id": "982dcb27",
   "metadata": {},
   "outputs": [],
   "source": [
    "def print_stream(stream):\n",
    "    for s in stream:\n",
    "        message = s['messages'][-1]\n",
    "        if isinstance(message, tuple):\n",
    "            print(message)\n",
    "        else: \n",
    "            message.pretty_print()"
   ]
  },
  {
   "cell_type": "code",
   "execution_count": 25,
   "id": "f900ee0e",
   "metadata": {},
   "outputs": [
    {
     "name": "stdout",
     "output_type": "stream",
     "text": [
      "================================\u001b[1m Human Message \u001b[0m=================================\n",
      "\n",
      "create new text file in the current directory called test.txt write testing writing function in it\n",
      "==================================\u001b[1m Ai Message \u001b[0m==================================\n",
      "Tool Calls:\n",
      "  write_file (e558fcd9-11dd-4c8c-b839-a8c48a0faf15)\n",
      " Call ID: e558fcd9-11dd-4c8c-b839-a8c48a0faf15\n",
      "  Args:\n",
      "    file_path: test.txt\n",
      "    content: testing writing function\n",
      "=================================\u001b[1m Tool Message \u001b[0m=================================\n",
      "Name: write_file\n",
      "\n",
      "File written\n",
      "==================================\u001b[1m Ai Message \u001b[0m==================================\n",
      "\n",
      "I have created a file called test.txt and wrote \"testing writing function\" in it.\n"
     ]
    }
   ],
   "source": [
    "inputs = {\"messages\": (\"user\",\"create new text file in the current directory called test.txt write testing writing function in it\")}\n",
    "print_stream(app.stream(inputs,stream_mode=\"values\"))"
   ]
  },
  {
   "cell_type": "code",
   "execution_count": 26,
   "id": "dcc74122",
   "metadata": {},
   "outputs": [
    {
     "data": {
      "text/plain": [
       "[HumanMessage(content='user', additional_kwargs={}, response_metadata={}, id='d4de251f-3a4f-4804-aedd-2c18400e06c4'),\n",
       " HumanMessage(content='create another file in the current directory called test_2.txt and write the following text in it: This is a test file', additional_kwargs={}, response_metadata={}, id='fd98cf88-1b62-4dac-bd15-a1575dd9c9f8'),\n",
       " AIMessage(content='', additional_kwargs={'function_call': {'name': 'write_file', 'arguments': '{\"file_path\": \"test_2.txt\", \"content\": \"This is a test file\"}'}}, response_metadata={'prompt_feedback': {'block_reason': 0, 'safety_ratings': []}, 'finish_reason': 'STOP', 'model_name': 'gemini-2.0-flash', 'safety_ratings': []}, id='run--4ea5ae7d-593b-412c-b275-f30bf2e8c48a-0', tool_calls=[{'name': 'write_file', 'args': {'file_path': 'test_2.txt', 'content': 'This is a test file'}, 'id': '4c2a5fcf-25a4-41ad-9a00-8a0f47ad83f2', 'type': 'tool_call'}], usage_metadata={'input_tokens': 107, 'output_tokens': 17, 'total_tokens': 124, 'input_token_details': {'cache_read': 0}}),\n",
       " ToolMessage(content='File written', name='write_file', id='038d0abe-6216-4671-af9e-6ab6bb95d019', tool_call_id='4c2a5fcf-25a4-41ad-9a00-8a0f47ad83f2'),\n",
       " AIMessage(content='I have created a file called test_2.txt and wrote the text \"This is a test file\" in it.', additional_kwargs={}, response_metadata={'prompt_feedback': {'block_reason': 0, 'safety_ratings': []}, 'finish_reason': 'STOP', 'model_name': 'gemini-2.0-flash', 'safety_ratings': []}, id='run--ac9cbdc5-c661-4268-a6c7-1725a313c626-0', usage_metadata={'input_tokens': 130, 'output_tokens': 26, 'total_tokens': 156, 'input_token_details': {'cache_read': 0}})]"
      ]
     },
     "execution_count": 26,
     "metadata": {},
     "output_type": "execute_result"
    }
   ],
   "source": [
    "result = app.invoke({\"messages\":['user','create another file in the current directory called test_2.txt and write the following text in it: This is a test file']})\n",
    "result['messages']"
   ]
  },
  {
   "cell_type": "code",
   "execution_count": 33,
   "id": "25672cc2",
   "metadata": {},
   "outputs": [
    {
     "data": {
      "text/plain": [
       "AIMessage(content=\"OK. I've deleted the file test_2.txt. Anything else?\", additional_kwargs={}, response_metadata={'prompt_feedback': {'block_reason': 0, 'safety_ratings': []}, 'finish_reason': 'STOP', 'model_name': 'gemini-2.0-flash', 'safety_ratings': []}, id='run--eef3674d-171d-45b4-b6d4-601266e45029-0', usage_metadata={'input_tokens': 125, 'output_tokens': 18, 'total_tokens': 143, 'input_token_details': {'cache_read': 0}})"
      ]
     },
     "execution_count": 33,
     "metadata": {},
     "output_type": "execute_result"
    }
   ],
   "source": [
    "result = app.invoke({\"messages\":['user','delete file named test_2.txt in the current directory']})\n",
    "result['messages'][-1]"
   ]
  }
 ],
 "metadata": {
  "kernelspec": {
   "display_name": ".venv",
   "language": "python",
   "name": "python3"
  },
  "language_info": {
   "codemirror_mode": {
    "name": "ipython",
    "version": 3
   },
   "file_extension": ".py",
   "mimetype": "text/x-python",
   "name": "python",
   "nbconvert_exporter": "python",
   "pygments_lexer": "ipython3",
   "version": "3.11.9"
  }
 },
 "nbformat": 4,
 "nbformat_minor": 5
}
