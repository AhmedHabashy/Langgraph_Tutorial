{
 "cells": [
  {
   "cell_type": "code",
   "execution_count": 1,
   "id": "8ca83dae",
   "metadata": {},
   "outputs": [],
   "source": [
    "from typing import TypedDict\n",
    "from langgraph.graph import StateGraph"
   ]
  },
  {
   "cell_type": "code",
   "execution_count": 13,
   "id": "8af27c5d",
   "metadata": {},
   "outputs": [],
   "source": [
    "### Original graph\n",
    "\n",
    "### create a state graph to read and write data \n",
    "class AgentState(TypedDict):\n",
    "    message: str\n",
    "\n",
    "# create a graph\n",
    "graph_1 = StateGraph(AgentState)\n",
    "\n",
    "\n",
    "# create action functions\n",
    "\n",
    "def send_message(state: AgentState) -> AgentState:\n",
    "    state[\"message\"] = f\"{state['message']}, you'r doning a great job learning Langgraph !!!\"\n",
    "    return state\n"
   ]
  },
  {
   "cell_type": "code",
   "execution_count": 14,
   "id": "6ac37afa",
   "metadata": {},
   "outputs": [],
   "source": [
    "graph_1.add_node(node=\"send_message\",action=send_message)\n",
    "graph_1.set_entry_point(key=\"send_message\")\n",
    "graph_1.set_finish_point(key=\"send_message\")\n",
    "\n",
    "app = graph_1.compile()"
   ]
  },
  {
   "cell_type": "code",
   "execution_count": 15,
   "id": "f407a49f",
   "metadata": {},
   "outputs": [
    {
     "data": {
      "image/png": "[encoded data removed]",
      "text/plain": [
       "<IPython.core.display.Image object>"
      ]
     },
     "metadata": {},
     "output_type": "display_data"
    }
   ],
   "source": [
    "from IPython.display import display,Image\n",
    "\n",
    "display(Image(app.get_graph().draw_mermaid_png()))"
   ]
  },
  {
   "cell_type": "code",
   "execution_count": 16,
   "id": "75a8515d",
   "metadata": {},
   "outputs": [
    {
     "data": {
      "text/plain": [
       "{'message': \"Bob, you'r doning a great job learning Langgraph !!!\"}"
      ]
     },
     "execution_count": 16,
     "metadata": {},
     "output_type": "execute_result"
    }
   ],
   "source": [
    "message_1 = app.invoke({\"message\": \"Bob\"})\n",
    "message_1"
   ]
  }
 ],
 "metadata": {
  "kernelspec": {
   "display_name": ".venv",
   "language": "python",
   "name": "python3"
  },
  "language_info": {
   "codemirror_mode": {
    "name": "ipython",
    "version": 3
   },
   "file_extension": ".py",
   "mimetype": "text/x-python",
   "name": "python",
   "nbconvert_exporter": "python",
   "pygments_lexer": "ipython3",
   "version": "3.11.9"
  }
 },
 "nbformat": 4,
 "nbformat_minor": 5
}
