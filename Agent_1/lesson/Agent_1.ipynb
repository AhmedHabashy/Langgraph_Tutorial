{
 "cells": [
  {
   "cell_type": "code",
   "execution_count": 11,
   "id": "9c896f8a",
   "metadata": {},
   "outputs": [],
   "source": [
    "from typing import TypedDict, List\n",
    "from langchain_core.messages import HumanMessage\n",
    "from langchain_google_genai import ChatGoogleGenerativeAI\n",
    "from langgraph.graph import StateGraph,START,END\n",
    "from dotenv import load_dotenv\n",
    "import os\n",
    "from IPython.display import display,Image\n",
    "load_dotenv();"
   ]
  },
  {
   "cell_type": "code",
   "execution_count": 7,
   "id": "9c1e529e",
   "metadata": {},
   "outputs": [],
   "source": [
    "if \"GOOGLE_API_KEY\" not in os.environ:\n",
    "    os.environ[\"GOOGLE_API_KEY\"] = os.getenv(\"GEMINI_API_KEY\")"
   ]
  },
  {
   "cell_type": "code",
   "execution_count": null,
   "id": "33feff79",
   "metadata": {},
   "outputs": [],
   "source": [
    "GEMINI_API_KEY = os.getenv(\"GEMINI_API_KEY\")\n",
    "\n",
    "llm = ChatGoogleGenerativeAI(\n",
    "    model=\"gemini-2.0-flash\",\n",
    "    temperature=0.5\n",
    ")"
   ]
  },
  {
   "cell_type": "code",
   "execution_count": 9,
   "id": "5f42f731",
   "metadata": {},
   "outputs": [],
   "source": [
    "class State(TypedDict):\n",
    "    messages: List[HumanMessage] \n",
    "\n",
    "def process(state:State) -> State:\n",
    "    response = llm.invoke(state[\"messages\"])\n",
    "    print(\"AI Response: \", response.content)\n",
    "    return state"
   ]
  },
  {
   "cell_type": "code",
   "execution_count": 10,
   "id": "addde51b",
   "metadata": {},
   "outputs": [],
   "source": [
    "# define the graph\n",
    "graph = StateGraph(State)\n",
    "\n",
    "graph.add_node(\"processing\",process)\n",
    "\n",
    "# add edges\n",
    "graph.add_edge(START,\"processing\")\n",
    "graph.add_edge(\"processing\",END)\n",
    "\n",
    "# compile graph\n",
    "app = graph.compile()"
   ]
  },
  {
   "cell_type": "code",
   "execution_count": 12,
   "id": "cac9fc12",
   "metadata": {},
   "outputs": [
    {
     "data": {
      "image/png": "[encoded data removed]",
      "text/plain": [
       "<IPython.core.display.Image object>"
      ]
     },
     "metadata": {},
     "output_type": "display_data"
    }
   ],
   "source": [
    "display(Image(app.get_graph().draw_mermaid_png()))"
   ]
  },
  {
   "cell_type": "code",
   "execution_count": 18,
   "id": "508399a0",
   "metadata": {},
   "outputs": [
    {
     "name": "stdout",
     "output_type": "stream",
     "text": [
      "AI Response:  Hello! How can I help you today?\n",
      "AI Response:  Okay, Ahmed! It's nice to meet you (or to \"meet\" you virtually). How can I help you today?\n",
      "AI Response:  As a large language model, I don't have access to personal information. Therefore, I don't know your name. You haven't told me!\n"
     ]
    }
   ],
   "source": [
    "query = input(\"Enter your Query: \")\n",
    "while query != \"exit\":    \n",
    "    result = app.invoke({\"messages\": [HumanMessage(content=query)]})\n",
    "    query = input(\"Enter your Query: \")"
   ]
  }
 ],
 "metadata": {
  "kernelspec": {
   "display_name": ".venv",
   "language": "python",
   "name": "python3"
  },
  "language_info": {
   "codemirror_mode": {
    "name": "ipython",
    "version": 3
   },
   "file_extension": ".py",
   "mimetype": "text/x-python",
   "name": "python",
   "nbconvert_exporter": "python",
   "pygments_lexer": "ipython3",
   "version": "3.11.9"
  }
 },
 "nbformat": 4,
 "nbformat_minor": 5
}
